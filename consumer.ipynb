{
 "cells": [
  {
   "cell_type": "code",
   "execution_count": 7,
   "id": "31736286",
   "metadata": {},
   "outputs": [],
   "source": [
    "from kafka import KafkaConsumer, KafkaProducer\n",
    "from time import sleep\n",
    "from json import dumps,loads\n",
    "import json\n",
    "from s3fs import S3FileSystem\n",
    "import pandas as pd\n",
    "import s3fs"
   ]
  },
  {
   "cell_type": "code",
   "execution_count": 3,
   "id": "8e3501cc",
   "metadata": {
    "scrolled": true
   },
   "outputs": [],
   "source": [
    "consumer = KafkaConsumer(\n",
    "    'cuaca-real-time',\n",
    "     bootstrap_servers=['3.107.68.101:9092'],\n",
    "    value_deserializer=lambda x: loads(x.decode('utf-8')))"
   ]
  }
 ],
 "metadata": {
  "kernelspec": {
   "display_name": "Python 3 (ipykernel)",
   "language": "python",
   "name": "python3"
  },
  "language_info": {
   "codemirror_mode": {
    "name": "ipython",
    "version": 3
   },
   "file_extension": ".py",
   "mimetype": "text/x-python",
   "name": "python",
   "nbconvert_exporter": "python",
   "pygments_lexer": "ipython3",
   "version": "3.10.9"
  }
 },
 "nbformat": 4,
 "nbformat_minor": 5
}
